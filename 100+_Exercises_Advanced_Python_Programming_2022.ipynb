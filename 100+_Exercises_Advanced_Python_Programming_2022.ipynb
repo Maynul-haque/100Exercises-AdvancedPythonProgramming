{
  "nbformat": 4,
  "nbformat_minor": 0,
  "metadata": {
    "colab": {
      "name": "100+ Exercises - Advanced Python Programming - 2022",
      "provenance": [],
      "include_colab_link": true
    },
    "kernelspec": {
      "name": "python3",
      "display_name": "Python 3"
    },
    "language_info": {
      "name": "python"
    }
  },
  "cells": [
    {
      "cell_type": "markdown",
      "metadata": {
        "id": "view-in-github",
        "colab_type": "text"
      },
      "source": [
        "<a href=\"https://colab.research.google.com/github/Maynul-haque/100Exercises-AdvancedPythonProgramming/blob/main/100%2B_Exercises_Advanced_Python_Programming_2022.ipynb\" target=\"_parent\"><img src=\"https://colab.research.google.com/assets/colab-badge.svg\" alt=\"Open In Colab\"/></a>"
      ]
    },
    {
      "cell_type": "markdown",
      "source": [
        "Print python version to the console"
      ],
      "metadata": {
        "id": "cAfsaLCtaFne"
      }
    },
    {
      "cell_type": "code",
      "execution_count": 5,
      "metadata": {
        "id": "a7RBZpnaerZR",
        "outputId": "2c0652bf-8b6f-4c49-b3e4-247eddaa47e3",
        "colab": {
          "base_uri": "https://localhost:8080/"
        }
      },
      "outputs": [
        {
          "output_type": "stream",
          "name": "stdout",
          "text": [
            "3.7.13\n"
          ]
        }
      ],
      "source": [
        "import sys\n",
        "print(sys.version.split()[0])"
      ]
    },
    {
      "cell_type": "markdown",
      "source": [
        "Find the sum of all the numbers that are divisible by 5 or 7 from 0 to 100"
      ],
      "metadata": {
        "id": "PYj5aM6nas43"
      }
    },
    {
      "cell_type": "code",
      "source": [
        "def calculate():\n",
        "    list_numbers = []\n",
        "    for i in range(0,100): \n",
        "      if i % 5 ==0 or i %7 ==0:\n",
        "        list_numbers.append(i)\n",
        "    total = sum(list_numbers)\n",
        "    print(total)\n",
        "        \n",
        "calculate()"
      ],
      "metadata": {
        "id": "8WP76iupb6uy",
        "outputId": "f6361ae0-4207-46da-b4c6-de938c1e3918",
        "colab": {
          "base_uri": "https://localhost:8080/"
        }
      },
      "execution_count": 10,
      "outputs": [
        {
          "output_type": "stream",
          "name": "stdout",
          "text": [
            "1580\n"
          ]
        }
      ]
    },
    {
      "cell_type": "markdown",
      "source": [
        ""
      ],
      "metadata": {
        "id": "pVbEYJuBc89D"
      }
    }
  ]
}